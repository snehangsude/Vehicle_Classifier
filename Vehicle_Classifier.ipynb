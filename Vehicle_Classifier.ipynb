{
  "nbformat": 4,
  "nbformat_minor": 0,
  "metadata": {
    "colab": {
      "name": "Vehicle Classifier",
      "provenance": []
    },
    "kernelspec": {
      "name": "python3",
      "display_name": "Python 3"
    },
    "language_info": {
      "name": "python"
    },
    "widgets": {
      "application/vnd.jupyter.widget-state+json": {
        "2e8b7fcf21144426acbb0338a55f1d6d": {
          "model_module": "@jupyter-widgets/controls",
          "model_name": "VBoxModel",
          "model_module_version": "1.5.0",
          "state": {
            "_view_name": "VBoxView",
            "_dom_classes": [],
            "_model_name": "VBoxModel",
            "_view_module": "@jupyter-widgets/controls",
            "_model_module_version": "1.5.0",
            "_view_count": null,
            "_view_module_version": "1.5.0",
            "box_style": "",
            "layout": "IPY_MODEL_b7d00512972241159979b331a780ec70",
            "_model_module": "@jupyter-widgets/controls",
            "children": [
              "IPY_MODEL_b25662f777384b9b927f0f0c3624c8c8",
              "IPY_MODEL_dea3a28a7d99441997fec225ea12442b",
              "IPY_MODEL_a1ce2e4b7dd54477b68d023a2adb10cd",
              "IPY_MODEL_71d1d0729d2e4a2195d745780a9bba64"
            ]
          }
        },
        "b7d00512972241159979b331a780ec70": {
          "model_module": "@jupyter-widgets/base",
          "model_name": "LayoutModel",
          "model_module_version": "1.2.0",
          "state": {
            "_view_name": "LayoutView",
            "grid_template_rows": null,
            "right": null,
            "justify_content": null,
            "_view_module": "@jupyter-widgets/base",
            "overflow": null,
            "_model_module_version": "1.2.0",
            "_view_count": null,
            "flex_flow": null,
            "width": null,
            "min_width": null,
            "border": null,
            "align_items": null,
            "bottom": null,
            "_model_module": "@jupyter-widgets/base",
            "top": null,
            "grid_column": null,
            "overflow_y": null,
            "overflow_x": null,
            "grid_auto_flow": null,
            "grid_area": null,
            "grid_template_columns": null,
            "flex": null,
            "_model_name": "LayoutModel",
            "justify_items": null,
            "grid_row": null,
            "max_height": null,
            "align_content": null,
            "visibility": null,
            "align_self": null,
            "height": null,
            "min_height": null,
            "padding": null,
            "grid_auto_rows": null,
            "grid_gap": null,
            "max_width": null,
            "order": null,
            "_view_module_version": "1.2.0",
            "grid_template_areas": null,
            "object_position": null,
            "object_fit": null,
            "grid_auto_columns": null,
            "margin": null,
            "display": null,
            "left": null
          }
        },
        "b25662f777384b9b927f0f0c3624c8c8": {
          "model_module": "@jupyter-widgets/controls",
          "model_name": "LabelModel",
          "model_module_version": "1.5.0",
          "state": {
            "_view_name": "LabelView",
            "style": "IPY_MODEL_6ca927e0f4414253911c80ce39647833",
            "_dom_classes": [],
            "description": "",
            "_model_name": "LabelModel",
            "placeholder": "​",
            "_view_module": "@jupyter-widgets/controls",
            "_model_module_version": "1.5.0",
            "value": "Select the vehicle you would like to classify!",
            "_view_count": null,
            "_view_module_version": "1.5.0",
            "description_tooltip": null,
            "_model_module": "@jupyter-widgets/controls",
            "layout": "IPY_MODEL_eb5fb11017ac4c5bb0eb12bcd11ddbf2"
          }
        },
        "dea3a28a7d99441997fec225ea12442b": {
          "model_module": "@jupyter-widgets/controls",
          "model_name": "FileUploadModel",
          "model_module_version": "1.5.0",
          "state": {
            "_view_name": "FileUploadView",
            "_counter": 2,
            "style": "IPY_MODEL_43a5f762db464f7c9bf315593d0af60c",
            "_dom_classes": [],
            "description": "Upload",
            "multiple": false,
            "_model_name": "FileUploadModel",
            "data": [
              null
            ],
            "button_style": "",
            "_view_module": "@jupyter-widgets/controls",
            "_model_module_version": "1.5.0",
            "accept": "",
            "_view_count": null,
            "disabled": false,
            "_view_module_version": "1.5.0",
            "error": "",
            "description_tooltip": null,
            "metadata": [
              {
                "name": "truck.jpg",
                "type": "image/jpeg",
                "size": 23758,
                "lastModified": 1641920527640
              }
            ],
            "_model_module": "@jupyter-widgets/controls",
            "layout": "IPY_MODEL_9b8164e8e7054ac1905ad9b20427a233",
            "icon": "upload"
          }
        },
        "a1ce2e4b7dd54477b68d023a2adb10cd": {
          "model_module": "@jupyter-widgets/output",
          "model_name": "OutputModel",
          "model_module_version": "1.0.0",
          "state": {
            "_view_name": "OutputView",
            "msg_id": "",
            "_dom_classes": [],
            "_model_name": "OutputModel",
            "outputs": [
              {
                "output_type": "display_data",
                "data": {
                  "image/png": "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\n",
                  "text/plain": "<PIL.Image.Image image mode=RGB size=128x83 at 0x7FE00A81D490>"
                },
                "metadata": {}
              }
            ],
            "_view_module": "@jupyter-widgets/output",
            "_model_module_version": "1.0.0",
            "_view_count": null,
            "_view_module_version": "1.0.0",
            "layout": "IPY_MODEL_09a1c5fc29cd4ccab400f2fb61696e8a",
            "_model_module": "@jupyter-widgets/output"
          }
        },
        "71d1d0729d2e4a2195d745780a9bba64": {
          "model_module": "@jupyter-widgets/controls",
          "model_name": "LabelModel",
          "model_module_version": "1.5.0",
          "state": {
            "_view_name": "LabelView",
            "style": "IPY_MODEL_71d15e0d91004f7f8be00bfd24d6034a",
            "_dom_classes": [],
            "description": "",
            "_model_name": "LabelModel",
            "placeholder": "​",
            "_view_module": "@jupyter-widgets/controls",
            "_model_module_version": "1.5.0",
            "value": "Prediction: truck; Probability: 0.5583",
            "_view_count": null,
            "_view_module_version": "1.5.0",
            "description_tooltip": null,
            "_model_module": "@jupyter-widgets/controls",
            "layout": "IPY_MODEL_b2b74b8f71b14eb480b8f99f2ae9fd16"
          }
        },
        "6ca927e0f4414253911c80ce39647833": {
          "model_module": "@jupyter-widgets/controls",
          "model_name": "DescriptionStyleModel",
          "model_module_version": "1.5.0",
          "state": {
            "_view_name": "StyleView",
            "_model_name": "DescriptionStyleModel",
            "description_width": "",
            "_view_module": "@jupyter-widgets/base",
            "_model_module_version": "1.5.0",
            "_view_count": null,
            "_view_module_version": "1.2.0",
            "_model_module": "@jupyter-widgets/controls"
          }
        },
        "eb5fb11017ac4c5bb0eb12bcd11ddbf2": {
          "model_module": "@jupyter-widgets/base",
          "model_name": "LayoutModel",
          "model_module_version": "1.2.0",
          "state": {
            "_view_name": "LayoutView",
            "grid_template_rows": null,
            "right": null,
            "justify_content": null,
            "_view_module": "@jupyter-widgets/base",
            "overflow": null,
            "_model_module_version": "1.2.0",
            "_view_count": null,
            "flex_flow": null,
            "width": null,
            "min_width": null,
            "border": null,
            "align_items": null,
            "bottom": null,
            "_model_module": "@jupyter-widgets/base",
            "top": null,
            "grid_column": null,
            "overflow_y": null,
            "overflow_x": null,
            "grid_auto_flow": null,
            "grid_area": null,
            "grid_template_columns": null,
            "flex": null,
            "_model_name": "LayoutModel",
            "justify_items": null,
            "grid_row": null,
            "max_height": null,
            "align_content": null,
            "visibility": null,
            "align_self": null,
            "height": null,
            "min_height": null,
            "padding": null,
            "grid_auto_rows": null,
            "grid_gap": null,
            "max_width": null,
            "order": null,
            "_view_module_version": "1.2.0",
            "grid_template_areas": null,
            "object_position": null,
            "object_fit": null,
            "grid_auto_columns": null,
            "margin": null,
            "display": null,
            "left": null
          }
        },
        "43a5f762db464f7c9bf315593d0af60c": {
          "model_module": "@jupyter-widgets/controls",
          "model_name": "ButtonStyleModel",
          "model_module_version": "1.5.0",
          "state": {
            "_view_name": "StyleView",
            "_model_name": "ButtonStyleModel",
            "_view_module": "@jupyter-widgets/base",
            "_model_module_version": "1.5.0",
            "_view_count": null,
            "button_color": null,
            "font_weight": "",
            "_view_module_version": "1.2.0",
            "_model_module": "@jupyter-widgets/controls"
          }
        },
        "9b8164e8e7054ac1905ad9b20427a233": {
          "model_module": "@jupyter-widgets/base",
          "model_name": "LayoutModel",
          "model_module_version": "1.2.0",
          "state": {
            "_view_name": "LayoutView",
            "grid_template_rows": null,
            "right": null,
            "justify_content": null,
            "_view_module": "@jupyter-widgets/base",
            "overflow": null,
            "_model_module_version": "1.2.0",
            "_view_count": null,
            "flex_flow": null,
            "width": null,
            "min_width": null,
            "border": null,
            "align_items": null,
            "bottom": null,
            "_model_module": "@jupyter-widgets/base",
            "top": null,
            "grid_column": null,
            "overflow_y": null,
            "overflow_x": null,
            "grid_auto_flow": null,
            "grid_area": null,
            "grid_template_columns": null,
            "flex": null,
            "_model_name": "LayoutModel",
            "justify_items": null,
            "grid_row": null,
            "max_height": null,
            "align_content": null,
            "visibility": null,
            "align_self": null,
            "height": null,
            "min_height": null,
            "padding": null,
            "grid_auto_rows": null,
            "grid_gap": null,
            "max_width": null,
            "order": null,
            "_view_module_version": "1.2.0",
            "grid_template_areas": null,
            "object_position": null,
            "object_fit": null,
            "grid_auto_columns": null,
            "margin": null,
            "display": null,
            "left": null
          }
        },
        "71d15e0d91004f7f8be00bfd24d6034a": {
          "model_module": "@jupyter-widgets/controls",
          "model_name": "DescriptionStyleModel",
          "model_module_version": "1.5.0",
          "state": {
            "_view_name": "StyleView",
            "_model_name": "DescriptionStyleModel",
            "description_width": "",
            "_view_module": "@jupyter-widgets/base",
            "_model_module_version": "1.5.0",
            "_view_count": null,
            "_view_module_version": "1.2.0",
            "_model_module": "@jupyter-widgets/controls"
          }
        },
        "b2b74b8f71b14eb480b8f99f2ae9fd16": {
          "model_module": "@jupyter-widgets/base",
          "model_name": "LayoutModel",
          "model_module_version": "1.2.0",
          "state": {
            "_view_name": "LayoutView",
            "grid_template_rows": null,
            "right": null,
            "justify_content": null,
            "_view_module": "@jupyter-widgets/base",
            "overflow": null,
            "_model_module_version": "1.2.0",
            "_view_count": null,
            "flex_flow": null,
            "width": null,
            "min_width": null,
            "border": null,
            "align_items": null,
            "bottom": null,
            "_model_module": "@jupyter-widgets/base",
            "top": null,
            "grid_column": null,
            "overflow_y": null,
            "overflow_x": null,
            "grid_auto_flow": null,
            "grid_area": null,
            "grid_template_columns": null,
            "flex": null,
            "_model_name": "LayoutModel",
            "justify_items": null,
            "grid_row": null,
            "max_height": null,
            "align_content": null,
            "visibility": null,
            "align_self": null,
            "height": null,
            "min_height": null,
            "padding": null,
            "grid_auto_rows": null,
            "grid_gap": null,
            "max_width": null,
            "order": null,
            "_view_module_version": "1.2.0",
            "grid_template_areas": null,
            "object_position": null,
            "object_fit": null,
            "grid_auto_columns": null,
            "margin": null,
            "display": null,
            "left": null
          }
        },
        "09a1c5fc29cd4ccab400f2fb61696e8a": {
          "model_module": "@jupyter-widgets/base",
          "model_name": "LayoutModel",
          "model_module_version": "1.2.0",
          "state": {
            "_view_name": "LayoutView",
            "grid_template_rows": null,
            "right": null,
            "justify_content": null,
            "_view_module": "@jupyter-widgets/base",
            "overflow": null,
            "_model_module_version": "1.2.0",
            "_view_count": null,
            "flex_flow": null,
            "width": null,
            "min_width": null,
            "border": null,
            "align_items": null,
            "bottom": null,
            "_model_module": "@jupyter-widgets/base",
            "top": null,
            "grid_column": null,
            "overflow_y": null,
            "overflow_x": null,
            "grid_auto_flow": null,
            "grid_area": null,
            "grid_template_columns": null,
            "flex": null,
            "_model_name": "LayoutModel",
            "justify_items": null,
            "grid_row": null,
            "max_height": null,
            "align_content": null,
            "visibility": null,
            "align_self": null,
            "height": null,
            "min_height": null,
            "padding": null,
            "grid_auto_rows": null,
            "grid_gap": null,
            "max_width": null,
            "order": null,
            "_view_module_version": "1.2.0",
            "grid_template_areas": null,
            "object_position": null,
            "object_fit": null,
            "grid_auto_columns": null,
            "margin": null,
            "display": null,
            "left": null
          }
        }
      }
    }
  },
  "cells": [
    {
      "cell_type": "markdown",
      "source": [
        "# Vehicle Classifier\n",
        "\n",
        "Having trouble understanding what vehicle it is? Worry not, I will help you! \n",
        "<br>\n",
        "**Click a Picture** of the vehicle you are confused of and upload it here, I will classify it for you! 😄\n",
        "\n"
      ],
      "metadata": {
        "id": "IGrjPLjEvz9d"
      }
    },
    {
      "cell_type": "markdown",
      "source": [
        "\n",
        "This model helps identify a vehicle from the following ones:\n",
        "\n",
        "- Train\n",
        "- Truck\n",
        "- Car\n",
        "- Bus\n",
        "- Boat\n",
        "- Bicycle\n",
        "- Aeroplane"
      ],
      "metadata": {
        "id": "suYHisr7v59L"
      }
    },
    {
      "cell_type": "markdown",
      "source": [
        "I, however have not been trained enough to classify any other kind of vehicle. <br>Meh! I swear these are only the important ones. \n",
        "<br>\n",
        "*Pssst! Sorry, bikers!*"
      ],
      "metadata": {
        "id": "V1kLgRwdxY0A"
      }
    },
    {
      "cell_type": "code",
      "execution_count": 8,
      "metadata": {
        "id": "P2pBlYozvxn5"
      },
      "outputs": [],
      "source": [
        "!pip install -Uqq fastbook\n",
        "\n",
        "import fastbook\n",
        "from fastbook import *\n",
        "from fastai.vision.widgets import *\n",
        "\n",
        "\n",
        "path = Path()\n",
        "learn_inf = load_learner(path/'export.pkl', cpu=True)\n",
        "btn_upload = widgets.FileUpload()\n",
        "out_pl = widgets.Output()\n",
        "lbl_pred = widgets.Label()"
      ]
    },
    {
      "cell_type": "code",
      "source": [
        "def on_data_change(change):\n",
        "    lbl_pred.value = ''\n",
        "    img = PILImage.create(btn_upload.data[-1])\n",
        "    out_pl.clear_output()\n",
        "    with out_pl: display(img.to_thumb(128,128))\n",
        "    pred,pred_idx,probs = learn_inf.predict(img)\n",
        "    lbl_pred.value = f'Prediction: {pred}; Probability: {probs[pred_idx]:.04f}'"
      ],
      "metadata": {
        "id": "D-XXKWCvwyVC"
      },
      "execution_count": 9,
      "outputs": []
    },
    {
      "cell_type": "code",
      "source": [
        "btn_upload.observe(on_data_change, names=['data'])"
      ],
      "metadata": {
        "id": "5d1pMI_mw27i"
      },
      "execution_count": 10,
      "outputs": []
    },
    {
      "cell_type": "code",
      "source": [
        "display(VBox([widgets.Label('Select the vehicle you would like to classify!'), btn_upload, out_pl, lbl_pred]))"
      ],
      "metadata": {
        "colab": {
          "base_uri": "https://localhost:8080/",
          "height": 195,
          "referenced_widgets": [
            "2e8b7fcf21144426acbb0338a55f1d6d",
            "b7d00512972241159979b331a780ec70",
            "b25662f777384b9b927f0f0c3624c8c8",
            "dea3a28a7d99441997fec225ea12442b",
            "a1ce2e4b7dd54477b68d023a2adb10cd",
            "71d1d0729d2e4a2195d745780a9bba64",
            "6ca927e0f4414253911c80ce39647833",
            "eb5fb11017ac4c5bb0eb12bcd11ddbf2",
            "43a5f762db464f7c9bf315593d0af60c",
            "9b8164e8e7054ac1905ad9b20427a233",
            "71d15e0d91004f7f8be00bfd24d6034a",
            "b2b74b8f71b14eb480b8f99f2ae9fd16",
            "09a1c5fc29cd4ccab400f2fb61696e8a"
          ]
        },
        "id": "rTKqy0gRw4nK",
        "outputId": "10196cf4-b1ee-42d2-d345-72e589dcafa4"
      },
      "execution_count": 11,
      "outputs": [
        {
          "output_type": "display_data",
          "data": {
            "application/vnd.jupyter.widget-view+json": {
              "model_id": "2e8b7fcf21144426acbb0338a55f1d6d",
              "version_minor": 0,
              "version_major": 2
            },
            "text/plain": [
              "VBox(children=(Label(value='Select the vehicle you would like to classify!'), FileUpload(value={}, description…"
            ]
          },
          "metadata": {}
        },
        {
          "output_type": "display_data",
          "data": {
            "text/html": [
              ""
            ],
            "text/plain": [
              "<IPython.core.display.HTML object>"
            ]
          },
          "metadata": {}
        },
        {
          "output_type": "display_data",
          "data": {
            "text/html": [
              ""
            ],
            "text/plain": [
              "<IPython.core.display.HTML object>"
            ]
          },
          "metadata": {}
        }
      ]
    },
    {
      "cell_type": "code",
      "source": [
        ""
      ],
      "metadata": {
        "id": "Ex4HK-VzBB9O"
      },
      "execution_count": 11,
      "outputs": []
    }
  ]
}